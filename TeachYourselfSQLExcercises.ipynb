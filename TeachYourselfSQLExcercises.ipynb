{
 "cells": [
  {
   "cell_type": "code",
   "execution_count": 1,
   "metadata": {
    "collapsed": false
   },
   "outputs": [
    {
     "data": {
      "text/plain": [
       "'3.8.11'"
      ]
     },
     "execution_count": 1,
     "metadata": {},
     "output_type": "execute_result"
    }
   ],
   "source": [
    "import sqlite3 as sq\n",
    "sq.sqlite_version"
   ]
  },
  {
   "cell_type": "code",
   "execution_count": 2,
   "metadata": {
    "collapsed": false
   },
   "outputs": [],
   "source": [
    "conn=sq.connect('tysql.sqlite') #importing sql database\n",
    "cur=conn.cursor() #defining the python cursor"
   ]
  },
  {
   "cell_type": "code",
   "execution_count": 3,
   "metadata": {
    "collapsed": false
   },
   "outputs": [
    {
     "data": {
      "text/plain": [
       "[('8 inch teddy bear',),\n",
       " ('12 inch teddy bear',),\n",
       " ('18 inch teddy bear',),\n",
       " ('Fish bean bag toy',),\n",
       " ('Bird bean bag toy',),\n",
       " ('Rabbit bean bag toy',),\n",
       " ('Raggedy Ann',),\n",
       " ('King doll',),\n",
       " ('Queen doll',)]"
      ]
     },
     "execution_count": 3,
     "metadata": {},
     "output_type": "execute_result"
    }
   ],
   "source": [
    "cur.execute('SELECT prod_name FROM Products;') #return prod_name from Products\n",
    "cur.fetchall()"
   ]
  },
  {
   "cell_type": "code",
   "execution_count": 4,
   "metadata": {
    "collapsed": false
   },
   "outputs": [
    {
     "data": {
      "text/plain": [
       "[('BR01', '8 inch teddy bear', 5.99),\n",
       " ('BR02', '12 inch teddy bear', 8.99),\n",
       " ('BR03', '18 inch teddy bear', 11.99),\n",
       " ('BNBG01', 'Fish bean bag toy', 3.49),\n",
       " ('BNBG02', 'Bird bean bag toy', 3.49),\n",
       " ('BNBG03', 'Rabbit bean bag toy', 3.49),\n",
       " ('RGAN01', 'Raggedy Ann', 4.99),\n",
       " ('RYL01', 'King doll', 9.49),\n",
       " ('RYL02', 'Queen doll', 9.49)]"
      ]
     },
     "execution_count": 4,
     "metadata": {},
     "output_type": "execute_result"
    }
   ],
   "source": [
    "cur.execute(\"SELECT prod_id, prod_name, prod_price FROM Products;\") #return prod_id/name/price from Products\n",
    "cur.fetchall()"
   ]
  },
  {
   "cell_type": "code",
   "execution_count": 5,
   "metadata": {
    "collapsed": false
   },
   "outputs": [
    {
     "data": {
      "text/plain": [
       "[('BR01',\n",
       "  'BRS01',\n",
       "  '8 inch teddy bear',\n",
       "  5.99,\n",
       "  '8 inch teddy bear, comes with cap and jacket'),\n",
       " ('BR02',\n",
       "  'BRS01',\n",
       "  '12 inch teddy bear',\n",
       "  8.99,\n",
       "  '12 inch teddy bear, comes with cap and jacket'),\n",
       " ('BR03',\n",
       "  'BRS01',\n",
       "  '18 inch teddy bear',\n",
       "  11.99,\n",
       "  '18 inch teddy bear, comes with cap and jacket'),\n",
       " ('BNBG01',\n",
       "  'DLL01',\n",
       "  'Fish bean bag toy',\n",
       "  3.49,\n",
       "  'Fish bean bag toy, complete with bean bag worms with which to feed it'),\n",
       " ('BNBG02',\n",
       "  'DLL01',\n",
       "  'Bird bean bag toy',\n",
       "  3.49,\n",
       "  'Bird bean bag toy, eggs are not included'),\n",
       " ('BNBG03',\n",
       "  'DLL01',\n",
       "  'Rabbit bean bag toy',\n",
       "  3.49,\n",
       "  'Rabbit bean bag toy, comes with bean bag carrots'),\n",
       " ('RGAN01', 'DLL01', 'Raggedy Ann', 4.99, '18 inch Raggedy Ann doll'),\n",
       " ('RYL01',\n",
       "  'FNG01',\n",
       "  'King doll',\n",
       "  9.49,\n",
       "  '12 inch king doll with royal garments and crown'),\n",
       " ('RYL02',\n",
       "  'FNG01',\n",
       "  'Queen doll',\n",
       "  9.49,\n",
       "  '12 inch queen doll with royal garments and crown')]"
      ]
     },
     "execution_count": 5,
     "metadata": {},
     "output_type": "execute_result"
    }
   ],
   "source": [
    "cur.execute(\"SELECT * FROM Products;\") #return everything from Products table.\n",
    "cur.fetchall()"
   ]
  },
  {
   "cell_type": "code",
   "execution_count": 6,
   "metadata": {
    "collapsed": false
   },
   "outputs": [
    {
     "data": {
      "text/plain": [
       "[('BRS01',), ('DLL01',), ('FNG01',)]"
      ]
     },
     "execution_count": 6,
     "metadata": {},
     "output_type": "execute_result"
    }
   ],
   "source": [
    "cur.execute(\"SELECT DISTINCT vend_id FROM Products\") #return distinct vend_id from Product table.\n",
    "cur.fetchall()"
   ]
  },
  {
   "cell_type": "code",
   "execution_count": 7,
   "metadata": {
    "collapsed": false
   },
   "outputs": [
    {
     "data": {
      "text/plain": [
       "[('Rabbit bean bag toy',), ('Raggedy Ann',), ('King doll',), ('Queen doll',)]"
      ]
     },
     "execution_count": 7,
     "metadata": {},
     "output_type": "execute_result"
    }
   ],
   "source": [
    "cur.execute(\"SELECT prod_name FROM Products LIMIT 5,5;\") #returns prod_name from Products table starting with the 5th one and giving the next 5.\n",
    "cur.fetchall()"
   ]
  },
  {
   "cell_type": "code",
   "execution_count": 8,
   "metadata": {
    "collapsed": false
   },
   "outputs": [
    {
     "data": {
      "text/plain": [
       "[('12 inch teddy bear',),\n",
       " ('18 inch teddy bear',),\n",
       " ('8 inch teddy bear',),\n",
       " ('Bird bean bag toy',),\n",
       " ('Fish bean bag toy',),\n",
       " ('King doll',),\n",
       " ('Queen doll',),\n",
       " ('Rabbit bean bag toy',),\n",
       " ('Raggedy Ann',)]"
      ]
     },
     "execution_count": 8,
     "metadata": {},
     "output_type": "execute_result"
    }
   ],
   "source": [
    "cur.execute(\"SELECT prod_name FROM Products ORDER BY prod_name;\") #Order by a column, must be last in statement\n",
    "cur.fetchall()"
   ]
  },
  {
   "cell_type": "code",
   "execution_count": 9,
   "metadata": {
    "collapsed": false
   },
   "outputs": [
    {
     "data": {
      "text/plain": [
       "[('BNBG02', 3.49, 'Bird bean bag toy'),\n",
       " ('BNBG01', 3.49, 'Fish bean bag toy'),\n",
       " ('BNBG03', 3.49, 'Rabbit bean bag toy'),\n",
       " ('RGAN01', 4.99, 'Raggedy Ann'),\n",
       " ('BR01', 5.99, '8 inch teddy bear'),\n",
       " ('BR02', 8.99, '12 inch teddy bear'),\n",
       " ('RYL01', 9.49, 'King doll'),\n",
       " ('RYL02', 9.49, 'Queen doll'),\n",
       " ('BR03', 11.99, '18 inch teddy bear')]"
      ]
     },
     "execution_count": 9,
     "metadata": {},
     "output_type": "execute_result"
    }
   ],
   "source": [
    "cur.execute(\"SELECT prod_id, prod_price, prod_name FROM Products ORDER BY prod_price, prod_name;\") #retrieve and order by more than one column\n",
    "cur.fetchall()"
   ]
  },
  {
   "cell_type": "code",
   "execution_count": 10,
   "metadata": {
    "collapsed": false
   },
   "outputs": [
    {
     "data": {
      "text/plain": [
       "[('8 inch teddy bear', 5.99),\n",
       " ('12 inch teddy bear', 8.99),\n",
       " ('18 inch teddy bear', 11.99),\n",
       " ('Fish bean bag toy', 3.49),\n",
       " ('Bird bean bag toy', 3.49),\n",
       " ('Rabbit bean bag toy', 3.49),\n",
       " ('Raggedy Ann', 4.99),\n",
       " ('King doll', 9.49),\n",
       " ('Queen doll', 9.49)]"
      ]
     },
     "execution_count": 10,
     "metadata": {},
     "output_type": "execute_result"
    }
   ],
   "source": [
    "cur.execute(\"SELECT prod_name, prod_price FROM Products WHERE prod_price <= 100;\") #return prod_name/price where the price is less than or equal to $100.\n",
    "cur.fetchall()"
   ]
  },
  {
   "cell_type": "code",
   "execution_count": 11,
   "metadata": {
    "collapsed": false
   },
   "outputs": [
    {
     "data": {
      "text/plain": [
       "[('BNBG01', 'Fish bean bag toy'),\n",
       " ('BNBG02', 'Bird bean bag toy'),\n",
       " ('BNBG03', 'Rabbit bean bag toy')]"
      ]
     },
     "execution_count": 11,
     "metadata": {},
     "output_type": "execute_result"
    }
   ],
   "source": [
    "cur.execute(\"SELECT prod_id, prod_name FROM Products WHERE prod_name LIKE '%bean bag%';\") #return prod_id/name where the prod_name contains something like \"bean bag\"\n",
    "cur.fetchall()"
   ]
  },
  {
   "cell_type": "code",
   "execution_count": 12,
   "metadata": {
    "collapsed": false
   },
   "outputs": [
    {
     "data": {
      "text/plain": [
       "[('BR02', '12 inch teddy bear'), ('BR03', '18 inch teddy bear')]"
      ]
     },
     "execution_count": 12,
     "metadata": {},
     "output_type": "execute_result"
    }
   ],
   "source": [
    "cur.execute(\"SELECT prod_id, prod_name FROM Products WHERE prod_name LIKE '__ inch teddy bear';\") \n",
    "cur.fetchall()"
   ]
  },
  {
   "cell_type": "code",
   "execution_count": 13,
   "metadata": {
    "collapsed": false
   },
   "outputs": [
    {
     "data": {
      "text/plain": [
       "[('John Smith',),\n",
       " ('Michelle Green',),\n",
       " ('Jim Jones',),\n",
       " ('Denise L. Stephens',),\n",
       " ('Kim Howard',)]"
      ]
     },
     "execution_count": 13,
     "metadata": {},
     "output_type": "execute_result"
    }
   ],
   "source": [
    "cur.execute(\"SELECT cust_contact FROM Customers WHERE cust_contact LIKE '%';\") #return cust_contact where it is a wildcard (%)\n",
    "cur.fetchall()"
   ]
  },
  {
   "cell_type": "code",
   "execution_count": 14,
   "metadata": {
    "collapsed": false
   },
   "outputs": [
    {
     "data": {
      "text/plain": [
       "[('Bear Emporium(USA)',),\n",
       " ('Bears R Us(USA)',),\n",
       " ('Doll House Inc.(USA)',),\n",
       " ('Fun and Games(England)',),\n",
       " ('Furball Inc.(USA)',),\n",
       " ('Jouets et ours(France)',)]"
      ]
     },
     "execution_count": 14,
     "metadata": {},
     "output_type": "execute_result"
    }
   ],
   "source": [
    "cur.execute(\"SELECT vend_name || '(' || vend_country || ')' FROM Vendors ORDER BY vend_name;\") #return and format vend_name/county from Vendors table\n",
    "cur.fetchall()"
   ]
  },
  {
   "cell_type": "code",
   "execution_count": 15,
   "metadata": {
    "collapsed": false
   },
   "outputs": [
    {
     "data": {
      "text/plain": [
       "[('Bear Emporium(USA)',),\n",
       " ('Bears R Us(USA)',),\n",
       " ('Doll House Inc.(USA)',),\n",
       " ('Fun and Games(England)',),\n",
       " ('Furball Inc.(USA)',),\n",
       " ('Jouets et ours(France)',)]"
      ]
     },
     "execution_count": 15,
     "metadata": {},
     "output_type": "execute_result"
    }
   ],
   "source": [
    "cur.execute(\"SELECT vend_name || '(' || vend_country || ')' AS vend_title FROM Vendors ORDER BY vend_name;\") #same as last but sets it as the vend_title\n",
    "cur.fetchall()"
   ]
  },
  {
   "cell_type": "code",
   "execution_count": 16,
   "metadata": {
    "collapsed": false
   },
   "outputs": [
    {
     "data": {
      "text/plain": [
       "[('RGAN01', 5, 4.99, 24.950000000000003),\n",
       " ('BR03', 5, 11.99, 59.95),\n",
       " ('BNBG01', 10, 3.49, 34.900000000000006),\n",
       " ('BNBG02', 10, 3.49, 34.900000000000006),\n",
       " ('BNBG03', 10, 3.49, 34.900000000000006)]"
      ]
     },
     "execution_count": 16,
     "metadata": {},
     "output_type": "execute_result"
    }
   ],
   "source": [
    "cur.execute(\"SELECT prod_id, quantity, item_price, quantity*item_price AS expanded_price FROM OrderItems WHERE order_num=20008;\") #return prod_id/quantity/item_price and the calculated expanded price for order number 20008 \n",
    "cur.fetchall()"
   ]
  },
  {
   "cell_type": "code",
   "execution_count": 17,
   "metadata": {
    "collapsed": false
   },
   "outputs": [
    {
     "data": {
      "text/plain": [
       "[(6,)]"
      ]
     },
     "execution_count": 17,
     "metadata": {},
     "output_type": "execute_result"
    }
   ],
   "source": [
    "cur.execute(\"SELECT 2*3\")\n",
    "cur.fetchall()"
   ]
  },
  {
   "cell_type": "code",
   "execution_count": 18,
   "metadata": {
    "collapsed": false
   },
   "outputs": [
    {
     "data": {
      "text/plain": [
       "[(6.823333333333334,)]"
      ]
     },
     "execution_count": 18,
     "metadata": {},
     "output_type": "execute_result"
    }
   ],
   "source": [
    "cur.execute(\"SELECT AVG(prod_price) AS avg_price FROM Products;\") #return average price\n",
    "cur.fetchall()"
   ]
  },
  {
   "cell_type": "code",
   "execution_count": 19,
   "metadata": {
    "collapsed": false
   },
   "outputs": [
    {
     "data": {
      "text/plain": [
       "[(5,)]"
      ]
     },
     "execution_count": 19,
     "metadata": {},
     "output_type": "execute_result"
    }
   ],
   "source": [
    "cur.execute(\"SELECT COUNT(*) AS num_cust FROM Customers;\")#return the number of customers\n",
    "cur.fetchall()"
   ]
  },
  {
   "cell_type": "code",
   "execution_count": 20,
   "metadata": {
    "collapsed": false
   },
   "outputs": [
    {
     "data": {
      "text/plain": [
       "[(3,)]"
      ]
     },
     "execution_count": 20,
     "metadata": {},
     "output_type": "execute_result"
    }
   ],
   "source": [
    "cur.execute(\"SELECT COUNT(cust_email) AS num_cust FROM Customers;\") #return the number of customers who have an email address.\n",
    "cur.fetchall()"
   ]
  },
  {
   "cell_type": "code",
   "execution_count": 21,
   "metadata": {
    "collapsed": false
   },
   "outputs": [
    {
     "data": {
      "text/plain": [
       "[(200,)]"
      ]
     },
     "execution_count": 21,
     "metadata": {},
     "output_type": "execute_result"
    }
   ],
   "source": [
    "cur.execute(\"SELECT SUM(quantity) AS items_ordered FROM OrderItems WHERE order_num=20005;\") #return the number of items in order number 20005\n",
    "cur.fetchall()"
   ]
  },
  {
   "cell_type": "code",
   "execution_count": 22,
   "metadata": {
    "collapsed": false
   },
   "outputs": [
    {
     "data": {
      "text/plain": [
       "[(4.24,)]"
      ]
     },
     "execution_count": 22,
     "metadata": {},
     "output_type": "execute_result"
    }
   ],
   "source": [
    "cur.execute(\"SELECT AVG(DISTINCT prod_price) FROM Products WHERE vend_id='DLL01';\") #return the average price of distinct products from vender number DLL01\n",
    "cur.fetchall()"
   ]
  },
  {
   "cell_type": "code",
   "execution_count": 23,
   "metadata": {
    "collapsed": false
   },
   "outputs": [
    {
     "data": {
      "text/plain": [
       "[(9, 3.49, 11.99, 6.823333333333334)]"
      ]
     },
     "execution_count": 23,
     "metadata": {},
     "output_type": "execute_result"
    }
   ],
   "source": [
    "cur.execute(\"SELECT COUNT(*), MIN(prod_price), MAX(prod_price), AVG(prod_price) FROM Products;\") #return the number of, minimum price, maximum price, and average price of products in Products table.\n",
    "cur.fetchall()"
   ]
  },
  {
   "cell_type": "code",
   "execution_count": 24,
   "metadata": {
    "collapsed": false
   },
   "outputs": [
    {
     "data": {
      "text/plain": [
       "[('1000000001', 2)]"
      ]
     },
     "execution_count": 24,
     "metadata": {},
     "output_type": "execute_result"
    }
   ],
   "source": [
    "cur.execute(\"SELECT cust_id, COUNT(*) AS orders FROM Orders GROUP BY cust_id HAVING COUNT(*)>=2;\") #return cust_id and the number of orders for customers who have order 2 or more times.\n",
    "cur.fetchall()"
   ]
  },
  {
   "cell_type": "code",
   "execution_count": 26,
   "metadata": {
    "collapsed": false
   },
   "outputs": [
    {
     "data": {
      "text/plain": [
       "[('Fun4All', 'IN', 1),\n",
       " ('Fun4All', 'AZ', 1),\n",
       " ('Kids Place', 'OH', 0),\n",
       " ('The Toy Store', 'IL', 1),\n",
       " ('Village Toys', 'MI', 2)]"
      ]
     },
     "execution_count": 26,
     "metadata": {},
     "output_type": "execute_result"
    }
   ],
   "source": [
    "cur.execute(\"SELECT cust_name, cust_state, (SELECT COUNT(*) FROM Orders WHERE Orders.cust_id=Customers.cust_id) AS orders FROM Customers ORDER BY cust_name;\")\n",
    "cur.fetchall() #return the cust_name/state and number of orders. this joins the results from two tables.  "
   ]
  },
  {
   "cell_type": "code",
   "execution_count": 31,
   "metadata": {
    "collapsed": false
   },
   "outputs": [
    {
     "data": {
      "text/plain": [
       "[('Fun4All', 'Denise L. Stephens'), ('The Toy Store', 'Kim Howard')]"
      ]
     },
     "execution_count": 31,
     "metadata": {},
     "output_type": "execute_result"
    }
   ],
   "source": [
    "cur.execute(\"SELECT cust_name, cust_contact FROM Customers WHERE cust_id IN (SELECT cust_id FROM Orders WHERE order_num IN (SELECT order_num FROM OrderItems WHERE prod_id='RGAN01'));\")\n",
    "cur.fetchall() #returns cust_name/contac where the customer has an order that includes the product RGAN01"
   ]
  },
  {
   "cell_type": "code",
   "execution_count": 33,
   "metadata": {
    "collapsed": false
   },
   "outputs": [
    {
     "data": {
      "text/plain": [
       "[('Bears R Us', '8 inch teddy bear', 5.99),\n",
       " ('Bears R Us', '12 inch teddy bear', 8.99),\n",
       " ('Bears R Us', '18 inch teddy bear', 11.99),\n",
       " ('Doll House Inc.', 'Fish bean bag toy', 3.49),\n",
       " ('Doll House Inc.', 'Bird bean bag toy', 3.49),\n",
       " ('Doll House Inc.', 'Rabbit bean bag toy', 3.49),\n",
       " ('Doll House Inc.', 'Raggedy Ann', 4.99),\n",
       " ('Fun and Games', 'King doll', 9.49),\n",
       " ('Fun and Games', 'Queen doll', 9.49)]"
      ]
     },
     "execution_count": 33,
     "metadata": {},
     "output_type": "execute_result"
    }
   ],
   "source": [
    "cur.execute(\"SELECT vend_name, prod_name, prod_price FROM Vendors, Products WHERE Vendors.vend_id=Products.vend_id;\")\n",
    "cur.fetchall() #return vend_name and prod_name/price. this joins the vendors and products tables."
   ]
  },
  {
   "cell_type": "code",
   "execution_count": 37,
   "metadata": {
    "collapsed": false
   },
   "outputs": [
    {
     "data": {
      "text/plain": [
       "[('18 inch teddy bear', 'Bears R Us', 11.99, 50),\n",
       " ('Fish bean bag toy', 'Doll House Inc.', 3.49, 100),\n",
       " ('Bird bean bag toy', 'Doll House Inc.', 3.49, 100),\n",
       " ('Rabbit bean bag toy', 'Doll House Inc.', 3.49, 100),\n",
       " ('Raggedy Ann', 'Doll House Inc.', 4.99, 50)]"
      ]
     },
     "execution_count": 37,
     "metadata": {},
     "output_type": "execute_result"
    }
   ],
   "source": [
    "cur.execute(\"SELECT prod_name, vend_name, prod_price, quantity FROM OrderItems, Products, Vendors \" +\n",
    "           \" WHERE Products.vend_id=Vendors.vend_id AND OrderItems.prod_id=Products.prod_id AND order_num=20007;\")\n",
    "cur.fetchall() #returns from 3 different tables and sets the connects for each table in the WHERE clause."
   ]
  },
  {
   "cell_type": "code",
   "execution_count": 52,
   "metadata": {
    "collapsed": false
   },
   "outputs": [
    {
     "data": {
      "text/plain": [
       "[('1000000004',\n",
       "  'Fun4All',\n",
       "  '829 Riverside Drive',\n",
       "  'Phoenix',\n",
       "  'AZ',\n",
       "  '88888',\n",
       "  'USA',\n",
       "  'Denise L. Stephens',\n",
       "  'dstephens@fun4all.com',\n",
       "  20007,\n",
       "  '2012-01-30',\n",
       "  'RGAN01',\n",
       "  50,\n",
       "  4.49),\n",
       " ('1000000005',\n",
       "  'The Toy Store',\n",
       "  '4545 53rd Street',\n",
       "  'Chicago',\n",
       "  'IL',\n",
       "  '54545',\n",
       "  'USA',\n",
       "  'Kim Howard',\n",
       "  None,\n",
       "  20008,\n",
       "  '2012-02-03',\n",
       "  'RGAN01',\n",
       "  5,\n",
       "  4.99)]"
      ]
     },
     "execution_count": 52,
     "metadata": {},
     "output_type": "execute_result"
    }
   ],
   "source": [
    "cur.execute((\"SELECT C.*, O.order_num, O.order_date, OI.prod_id, OI.quantity, OI.item_price \" + \n",
    "             \" FROM Customers AS C, Orders AS O, OrderItems AS OI \" + \n",
    "             \" WHERE C.cust_id=O.cust_id AND OI.order_num=O.order_num AND prod_id='RGAN01';\"))\n",
    "cur.fetchall() #joins 3 tables and uses shorthand variables for the table names"
   ]
  },
  {
   "cell_type": "code",
   "execution_count": 53,
   "metadata": {
    "collapsed": false
   },
   "outputs": [
    {
     "data": {
      "text/plain": [
       "[('Fun4All', 'Denise L. Stephens', 'dstephens@fun4all.com'),\n",
       " ('Fun4All', 'Jim Jones', 'jjones@fun4all.com'),\n",
       " ('The Toy Store', 'Kim Howard', None),\n",
       " ('Village Toys', 'John Smith', 'sales@villagetoys.com')]"
      ]
     },
     "execution_count": 53,
     "metadata": {},
     "output_type": "execute_result"
    }
   ],
   "source": [
    "cur.execute(\"SELECT cust_name, cust_contact, cust_email FROM Customers \"+ \n",
    "            \" WHERE cust_state IN ('IL','IN', 'MI') \" + \n",
    "           \" UNION \" + \n",
    "           \" SELECT cust_name, cust_contact, cust_email FROM Customers \"+\n",
    "           \" WHERE cust_name='Fun4All';\")\n",
    "cur.fetchall() #1st select returns all customers in those state and the 2nd select returns the Fun4All customer. Duplicates are taken care of."
   ]
  },
  {
   "cell_type": "code",
   "execution_count": 57,
   "metadata": {
    "collapsed": false
   },
   "outputs": [
    {
     "data": {
      "text/plain": [
       "[('1000000001',\n",
       "  'Village Toys',\n",
       "  '200 Maple Lane',\n",
       "  'Detroit',\n",
       "  'MI',\n",
       "  '44444',\n",
       "  'USA',\n",
       "  'John Smith',\n",
       "  'sales@villagetoys.com'),\n",
       " ('1000000002',\n",
       "  'Kids Place',\n",
       "  '333 South Lake Drive',\n",
       "  'Columbus',\n",
       "  'OH',\n",
       "  '43333',\n",
       "  'USA',\n",
       "  'Michelle Green',\n",
       "  None),\n",
       " ('1000000003',\n",
       "  'Fun4All',\n",
       "  '1 Sunny Place',\n",
       "  'Muncie',\n",
       "  'IN',\n",
       "  '42222',\n",
       "  'USA',\n",
       "  'Jim Jones',\n",
       "  'jjones@fun4all.com'),\n",
       " ('1000000004',\n",
       "  'Fun4All',\n",
       "  '829 Riverside Drive',\n",
       "  'Phoenix',\n",
       "  'AZ',\n",
       "  '88888',\n",
       "  'USA',\n",
       "  'Denise L. Stephens',\n",
       "  'dstephens@fun4all.com'),\n",
       " ('1000000005',\n",
       "  'The Toy Store',\n",
       "  '4545 53rd Street',\n",
       "  'Chicago',\n",
       "  'IL',\n",
       "  '54545',\n",
       "  'USA',\n",
       "  'Kim Howard',\n",
       "  None),\n",
       " ('100000006',\n",
       "  'Toy Land',\n",
       "  '123 Any Street',\n",
       "  'New York',\n",
       "  'NY',\n",
       "  '11111',\n",
       "  'USA',\n",
       "  None,\n",
       "  None),\n",
       " ('1000000006',\n",
       "  'Toy Land',\n",
       "  '123 Any Street',\n",
       "  'New York',\n",
       "  'NY',\n",
       "  '11111',\n",
       "  'USA',\n",
       "  None,\n",
       "  None)]"
      ]
     },
     "execution_count": 57,
     "metadata": {},
     "output_type": "execute_result"
    }
   ],
   "source": [
    "cur.execute(\"INSERT INTO Customers(cust_id, cust_name, cust_address, cust_city, cust_state, cust_zip, cust_country, cust_contact, cust_email)\" + \n",
    "            \" VALUES ('1000000006', 'Toy Land', '123 Any Street', 'New York', 'NY', '11111', 'USA', NULL, NULL);\")\n",
    "cur.execute(\"SELECT * FROM Customers;\")\n",
    "cur.fetchall() #inserts a new customer into the Customers table."
   ]
  },
  {
   "cell_type": "code",
   "execution_count": 59,
   "metadata": {
    "collapsed": false
   },
   "outputs": [
    {
     "data": {
      "text/plain": [
       "[('1000000001',\n",
       "  'Village Toys',\n",
       "  '200 Maple Lane',\n",
       "  'Detroit',\n",
       "  'MI',\n",
       "  '44444',\n",
       "  'USA',\n",
       "  'John Smith',\n",
       "  'sales@villagetoys.com'),\n",
       " ('1000000002',\n",
       "  'Kids Place',\n",
       "  '333 South Lake Drive',\n",
       "  'Columbus',\n",
       "  'OH',\n",
       "  '43333',\n",
       "  'USA',\n",
       "  'Michelle Green',\n",
       "  None),\n",
       " ('1000000003',\n",
       "  'Fun4All',\n",
       "  '1 Sunny Place',\n",
       "  'Muncie',\n",
       "  'IN',\n",
       "  '42222',\n",
       "  'USA',\n",
       "  'Jim Jones',\n",
       "  'jjones@fun4all.com'),\n",
       " ('1000000004',\n",
       "  'Fun4All',\n",
       "  '829 Riverside Drive',\n",
       "  'Phoenix',\n",
       "  'AZ',\n",
       "  '88888',\n",
       "  'USA',\n",
       "  'Denise L. Stephens',\n",
       "  'dstephens@fun4all.com'),\n",
       " ('1000000005',\n",
       "  'The Toy Store',\n",
       "  '4545 53rd Street',\n",
       "  'Chicago',\n",
       "  'IL',\n",
       "  '54545',\n",
       "  'USA',\n",
       "  'Kim Howard',\n",
       "  'kim@thetoystore.com'),\n",
       " ('100000006',\n",
       "  'Toy Land',\n",
       "  '123 Any Street',\n",
       "  'New York',\n",
       "  'NY',\n",
       "  '11111',\n",
       "  'USA',\n",
       "  None,\n",
       "  None),\n",
       " ('1000000006',\n",
       "  'Toy Land',\n",
       "  '123 Any Street',\n",
       "  'New York',\n",
       "  'NY',\n",
       "  '11111',\n",
       "  'USA',\n",
       "  None,\n",
       "  None)]"
      ]
     },
     "execution_count": 59,
     "metadata": {},
     "output_type": "execute_result"
    }
   ],
   "source": [
    "cur.execute(\"UPDATE Customers SET cust_email='kim@thetoystore.com' WHERE cust_id='1000000005';\")\n",
    "cur.execute(\"SELECT * FROM Customers;\")\n",
    "cur.fetchall() #updates the email address for that cust_id value."
   ]
  },
  {
   "cell_type": "code",
   "execution_count": 60,
   "metadata": {
    "collapsed": false
   },
   "outputs": [
    {
     "data": {
      "text/plain": [
       "[('1000000001',\n",
       "  'Village Toys',\n",
       "  '200 Maple Lane',\n",
       "  'Detroit',\n",
       "  'MI',\n",
       "  '44444',\n",
       "  'USA',\n",
       "  'John Smith',\n",
       "  'sales@villagetoys.com'),\n",
       " ('1000000002',\n",
       "  'Kids Place',\n",
       "  '333 South Lake Drive',\n",
       "  'Columbus',\n",
       "  'OH',\n",
       "  '43333',\n",
       "  'USA',\n",
       "  'Michelle Green',\n",
       "  None),\n",
       " ('1000000003',\n",
       "  'Fun4All',\n",
       "  '1 Sunny Place',\n",
       "  'Muncie',\n",
       "  'IN',\n",
       "  '42222',\n",
       "  'USA',\n",
       "  'Jim Jones',\n",
       "  'jjones@fun4all.com'),\n",
       " ('1000000004',\n",
       "  'Fun4All',\n",
       "  '829 Riverside Drive',\n",
       "  'Phoenix',\n",
       "  'AZ',\n",
       "  '88888',\n",
       "  'USA',\n",
       "  'Denise L. Stephens',\n",
       "  'dstephens@fun4all.com'),\n",
       " ('1000000005',\n",
       "  'The Toy Store',\n",
       "  '4545 53rd Street',\n",
       "  'Chicago',\n",
       "  'IL',\n",
       "  '54545',\n",
       "  'USA',\n",
       "  'Kim Howard',\n",
       "  'kim@thetoystore.com'),\n",
       " ('100000006',\n",
       "  'Toy Land',\n",
       "  '123 Any Street',\n",
       "  'New York',\n",
       "  'NY',\n",
       "  '11111',\n",
       "  'USA',\n",
       "  None,\n",
       "  None),\n",
       " ('1000000006',\n",
       "  'Toy Land',\n",
       "  '123 Any Street',\n",
       "  'New York',\n",
       "  'NY',\n",
       "  '11111',\n",
       "  'USA',\n",
       "  None,\n",
       "  None)]"
      ]
     },
     "execution_count": 60,
     "metadata": {},
     "output_type": "execute_result"
    }
   ],
   "source": [
    "cur.execute(\"CREATE TABLE CustCopy AS SELECT * FROM Customers;\")\n",
    "cur.execute(\"SELECT * FROM CustCopy;\") \n",
    "cur.fetchall() #makes a copy of the customers table"
   ]
  },
  {
   "cell_type": "code",
   "execution_count": 63,
   "metadata": {
    "collapsed": false
   },
   "outputs": [
    {
     "data": {
      "text/plain": [
       "[('1000000001',\n",
       "  'Village Toys',\n",
       "  '200 Maple Lane',\n",
       "  'Detroit',\n",
       "  'MI',\n",
       "  '44444',\n",
       "  'USA',\n",
       "  'John Smith',\n",
       "  'sales@villagetoys.com'),\n",
       " ('1000000002',\n",
       "  'Kids Place',\n",
       "  '333 South Lake Drive',\n",
       "  'Columbus',\n",
       "  'OH',\n",
       "  '43333',\n",
       "  'USA',\n",
       "  'Michelle Green',\n",
       "  None),\n",
       " ('1000000003',\n",
       "  'Fun4All',\n",
       "  '1 Sunny Place',\n",
       "  'Muncie',\n",
       "  'IN',\n",
       "  '42222',\n",
       "  'USA',\n",
       "  'Jim Jones',\n",
       "  'jjones@fun4all.com'),\n",
       " ('1000000004',\n",
       "  'Fun4All',\n",
       "  '829 Riverside Drive',\n",
       "  'Phoenix',\n",
       "  'AZ',\n",
       "  '88888',\n",
       "  'USA',\n",
       "  'Denise L. Stephens',\n",
       "  'dstephens@fun4all.com'),\n",
       " ('1000000005',\n",
       "  'The Toy Store',\n",
       "  '4545 53rd Street',\n",
       "  'Chicago',\n",
       "  'IL',\n",
       "  '54545',\n",
       "  'USA',\n",
       "  'Kim Howard',\n",
       "  'kim@thetoystore.com')]"
      ]
     },
     "execution_count": 63,
     "metadata": {},
     "output_type": "execute_result"
    }
   ],
   "source": [
    "cur.execute(\"DELETE FROM CustCopy WHERE cust_id='100000006';\")\n",
    "cur.execute(\"SELECT * FROM CustCopy;\")\n",
    "cur.fetchall() #deletes the row from CustCopy table where the id is as specified."
   ]
  },
  {
   "cell_type": "code",
   "execution_count": 66,
   "metadata": {
    "collapsed": false
   },
   "outputs": [
    {
     "data": {
      "text/plain": [
       "<sqlite3.Cursor at 0x2db5f738110>"
      ]
     },
     "execution_count": 66,
     "metadata": {},
     "output_type": "execute_result"
    }
   ],
   "source": [
    "cur.execute(\"DROP TABLE CustCopy;\") #deletes this table"
   ]
  }
 ],
 "metadata": {
  "anaconda-cloud": {},
  "kernelspec": {
   "display_name": "Python [Root]",
   "language": "python",
   "name": "Python [Root]"
  },
  "language_info": {
   "codemirror_mode": {
    "name": "ipython",
    "version": 3
   },
   "file_extension": ".py",
   "mimetype": "text/x-python",
   "name": "python",
   "nbconvert_exporter": "python",
   "pygments_lexer": "ipython3",
   "version": "3.5.2"
  }
 },
 "nbformat": 4,
 "nbformat_minor": 0
}
